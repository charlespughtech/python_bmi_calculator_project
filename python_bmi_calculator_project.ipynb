{
 "cells": [
  {
   "cell_type": "markdown",
   "id": "18545c47-9226-4fe5-8d27-7c3690c48bf1",
   "metadata": {},
   "source": [
    "# BMI Calculator Project\n",
    "### BMI data sources:\n",
    "\n",
    "##### Calculation used:\n",
    "BMI = (weight in kilograms) / (height in metres x height in metres)\n",
    "- *Source: [https://www.nhs.uk/health-assessment-tools/calculate-your-body-mass-index/calculate-bmi-for-adults](https://www.nhs.uk/health-assessment-tools/calculate-your-body-mass-index/calculate-bmi-for-adults)*\n",
    "\n",
    "\n",
    "##### Table of NHS BMI classifications:\n",
    "| BMI Range | Classification |\n",
    "|-----------|----------------|\n",
    "| Under 18.5 | Underweight |\n",
    "| 18.5-24.9 | Normal Weight |\n",
    "| 25-29.9 | Overweight |\n",
    "| 30-34.9 | Obese |\n",
    "| 35-39.9 | Severely Obese |\n",
    "| 40 and over | Morbidly Obese |\n",
    "\n",
    "- *Source: [https://www.nhs.uk/conditions/obesity/#:~:text=Body%20mass%20index%20(BMI),-BMI%20is%20a&text=below%2018.5%20%E2%80%93%20you're%20in,re%20in%20the%20obese%20range](https://www.nhs.uk/conditions/obesity/#:~:text=Body%20mass%20index%20(BMI),-BMI%20is%20a&text=below%2018.5%20%E2%80%93%20you're%20in,re%20in%20the%20obese%20range)*"
   ]
  },
  {
   "cell_type": "markdown",
   "id": "38b42bf7-df41-4afb-8c65-aedb34496a87",
   "metadata": {},
   "source": [
    "## First, we need input from a user\n",
    "- We ask for the weight of the user in kilograms, using an input function and provide a string placeholder.\n",
    "- Then, we ask for the height of the user in metres, using an input function and provide a string placeholder."
   ]
  },
  {
   "cell_type": "code",
   "execution_count": null,
   "id": "a51145f0-bedb-49fa-a0af-13c444df0489",
   "metadata": {},
   "outputs": [],
   "source": [
    "weight = input(\"Enter your weight in kilograms: \")\n",
    "\n",
    "height = input(\"Enter your height in metres: \")"
   ]
  },
  {
   "cell_type": "markdown",
   "id": "44e520ca-46c0-4190-89d0-7b1b0e2c63ce",
   "metadata": {},
   "source": [
    "- We can then print out the details using concatenation of the strings and variables below."
   ]
  },
  {
   "cell_type": "code",
   "execution_count": 88,
   "id": "33d5d628-5c08-4c91-8003-8e33cf0a962e",
   "metadata": {},
   "outputs": [
    {
     "name": "stdout",
     "output_type": "stream",
     "text": [
      "Your weight is: 86 kilograms\n",
      "Your height is: 1.88 metres\n"
     ]
    }
   ],
   "source": [
    "print(\"Your weight is: \" + (weight) + \" kilograms\")\n",
    "\n",
    "print(\"Your height is: \" + (height) + \" metres\")"
   ]
  },
  {
   "cell_type": "markdown",
   "id": "76b0e007-8c8a-4a45-b92d-da71d59122a4",
   "metadata": {},
   "source": [
    "- We now have the two inputs from the user needed to perform the calculation but we must check the data types before performing any calculations."
   ]
  },
  {
   "cell_type": "markdown",
   "id": "9393c5c5-c1ac-4067-8287-2f30adb10a40",
   "metadata": {},
   "source": [
    "## Second, we need to check the data types\n",
    "- We can do this using the type() function"
   ]
  },
  {
   "cell_type": "code",
   "execution_count": 24,
   "id": "8ae74b06-fbd8-46cd-ae75-d6525cbdc19b",
   "metadata": {},
   "outputs": [
    {
     "data": {
      "text/plain": [
       "str"
      ]
     },
     "execution_count": 24,
     "metadata": {},
     "output_type": "execute_result"
    }
   ],
   "source": [
    "type(height)"
   ]
  },
  {
   "cell_type": "code",
   "execution_count": 25,
   "id": "f355a236-62bb-492e-8c6c-997ba117aa4a",
   "metadata": {},
   "outputs": [
    {
     "data": {
      "text/plain": [
       "str"
      ]
     },
     "execution_count": 25,
     "metadata": {},
     "output_type": "execute_result"
    }
   ],
   "source": [
    "type(weight)"
   ]
  },
  {
   "cell_type": "markdown",
   "id": "3836e86d-ee14-483d-8bf8-75a8a0fd8920",
   "metadata": {},
   "source": [
    "- This shows us that the data types for both height and weight are string.\n",
    "- Despite now having the two inputs from the user needed to perform the calculation, we must perform some data type conversions first to ensure that string inputs are converted to floats in order for the code to run."
   ]
  },
  {
   "cell_type": "markdown",
   "id": "77ce6638-c533-4660-9cd3-40251d13e990",
   "metadata": {},
   "source": [
    "## Third, we need to convert the user input data types to floats\n",
    "- Instead of converting the data later on and then calculating, we can change the initial user input function to floats using float(), this is to save lines of code.\n",
    "- We can convert strings to floats using the float() function wrapped around the input functions.\n",
    "- We ask for the weight of the user in kilograms, using an input function and provide a string placeholder.\n",
    "- Then, we ask for the height of the user in metres, using an input function and provide a string placeholder."
   ]
  },
  {
   "cell_type": "code",
   "execution_count": 81,
   "id": "0926c8f4-1275-4bb6-85a8-2a66b53efa51",
   "metadata": {},
   "outputs": [
    {
     "name": "stdin",
     "output_type": "stream",
     "text": [
      "Enter your weight in kilograms:  86\n",
      "Enter your height in metres:  1.88\n"
     ]
    }
   ],
   "source": [
    "weight = float(input(\"Enter your weight in kilograms: \"))\n",
    "\n",
    "height = float(input(\"Enter your height in metres: \"))"
   ]
  },
  {
   "cell_type": "markdown",
   "id": "182c20cb-e548-4541-a739-c62ae111dbba",
   "metadata": {},
   "source": [
    "- We can then print out the user inputs below.\n",
    "- We can concatenate placeholder strings and the user input floats."
   ]
  },
  {
   "cell_type": "code",
   "execution_count": 82,
   "id": "f1bb0dab-5cb2-434b-a0b7-8fba396bf41b",
   "metadata": {
    "scrolled": true
   },
   "outputs": [
    {
     "name": "stdout",
     "output_type": "stream",
     "text": [
      "Your weight is:  86.0 kilograms\n",
      "Your height is:  1.88 metres\n"
     ]
    }
   ],
   "source": [
    "print(\"Your weight is: \", weight, \"kilograms\")\n",
    "\n",
    "print(\"Your height is: \", height, \"metres\")"
   ]
  },
  {
   "cell_type": "markdown",
   "id": "060ab236-5a43-4d90-a783-95fce57b0b80",
   "metadata": {},
   "source": [
    "## Fourth, we can perform the BMI calculaton\n",
    "BMI = (weight in kilograms) / (height in metres x height in metres)\n",
    "- We can use the above formula to calculate the BMI from user inputs and then print the output with a placeholder."
   ]
  },
  {
   "cell_type": "code",
   "execution_count": 83,
   "id": "6bfca3e0-251f-453a-be2c-a4ea92cbd64d",
   "metadata": {},
   "outputs": [
    {
     "name": "stdout",
     "output_type": "stream",
     "text": [
      "Your BMI is:  24.332277048438208\n"
     ]
    }
   ],
   "source": [
    "BMI = weight / (height * height)\n",
    "\n",
    "print(\"Your BMI is: \",BMI)"
   ]
  },
  {
   "cell_type": "markdown",
   "id": "8f126f20-71dc-4625-ae1e-f024a5b45834",
   "metadata": {},
   "source": [
    "## Fifth, we can give the user some feedback regarding there BMI, using the data from the table, such as their 'Classification' and 'Health Risk'.\n",
    "- We can start by using an if statement to ensure that only values greater than 0 can generate additional context.\n",
    "- We can use if/elif/else statements to provide the additional context dependent on the user's BMI range."
   ]
  },
  {
   "cell_type": "markdown",
   "id": "c758dae8-a02b-4794-97ae-92994dea1f03",
   "metadata": {},
   "source": [
    "NHS BMI Classifications table:\n",
    "\n",
    "| BMI Range | Classification |\n",
    "|-----------|----------------|\n",
    "| Under 18.5 | Underweight |\n",
    "| 18.5-24.9 | Normal Weight |\n",
    "| 25-29.9 | Overweight |\n",
    "| 30-34.9 | Obese |\n",
    "| 35-39.9 | Severely Obese |\n",
    "| 40 and over | Morbidly Obese |\n",
    "\n",
    "- *Source: [https://www.nhs.uk/conditions/obesity/#:~:text=Body%20mass%20index%20(BMI),-BMI%20is%20a&text=below%2018.5%20%E2%80%93%20you're%20in,re%20in%20the%20obese%20range](https://www.nhs.uk/conditions/obesity/#:~:text=Body%20mass%20index%20(BMI),-BMI%20is%20a&text=below%2018.5%20%E2%80%93%20you're%20in,re%20in%20the%20obese%20range)*"
   ]
  },
  {
   "cell_type": "code",
   "execution_count": 85,
   "id": "a02eee52-91dd-44a6-a73b-3f2df2bace90",
   "metadata": {},
   "outputs": [
    {
     "name": "stdout",
     "output_type": "stream",
     "text": [
      "Classification: Normal Weight\n"
     ]
    }
   ],
   "source": [
    "if BMI > 0:\n",
    "    if(BMI < 18.5):\n",
    "        print(\"Classification: Underweight\")\n",
    "    elif(BMI < 25):\n",
    "        print(\"Classification: Normal Weight\")\n",
    "    elif(BMI < 30):\n",
    "        print(\"Classification: Overweight\")\n",
    "    elif(BMI < 35):\n",
    "        print(\"Classification: Obese\")\n",
    "    elif(BMI < 40):\n",
    "        print(\"Classification: Severely Obese\")\n",
    "    elif(BMI >= 40):\n",
    "        print(\"Classification: Morbidly Obese\")\n",
    "    else:\n",
    "        print(\"Please input numbers greater than zero.\")"
   ]
  },
  {
   "cell_type": "markdown",
   "id": "f5cd00e6-9f62-4ecd-9619-a4c862c678ce",
   "metadata": {},
   "source": [
    "## Sixth, we can add a name input and output\n",
    "- This will ensure a more personalised output by including a name variable within the input and outputs.\n",
    "- We can use the input function again, with a placeholder for the input.\n",
    "- For the output, we can use the print function with the name concatenated."
   ]
  },
  {
   "cell_type": "code",
   "execution_count": 86,
   "id": "a8fe5d61-cf24-4740-825c-7ef5a34ac659",
   "metadata": {},
   "outputs": [
    {
     "name": "stdin",
     "output_type": "stream",
     "text": [
      "Enter your name:  Charles\n"
     ]
    },
    {
     "name": "stdout",
     "output_type": "stream",
     "text": [
      "Your name:  Charles\n"
     ]
    }
   ],
   "source": [
    "name = input(\"Enter your name: \")\n",
    "\n",
    "print(\"Your name: \", name) "
   ]
  },
  {
   "cell_type": "markdown",
   "id": "06d78d3b-b067-4962-9156-d457245963c5",
   "metadata": {},
   "source": [
    "- We can then insert the name input above the weight and height inputs and print the output along with the other outputs to make it more personalised."
   ]
  },
  {
   "cell_type": "markdown",
   "id": "45e57186-9ce6-456e-9049-9405d26d95a0",
   "metadata": {},
   "source": [
    "## Seventh, tying it all together"
   ]
  },
  {
   "cell_type": "markdown",
   "id": "babf5966-ebbf-4ffa-89d4-eef42a04bea9",
   "metadata": {},
   "source": [
    "## BMI Calculator"
   ]
  },
  {
   "cell_type": "markdown",
   "id": "d8e304ab-761b-4de1-92c9-55cc8874de46",
   "metadata": {},
   "source": [
    "#### Calculation used:\n",
    "**BMI = (weight in kilograms) / (height in metres x height in metres)**\n",
    "- *Source: [https://www.nhs.uk/health-assessment-tools/calculate-your-body-mass-index/calculate-bmi-for-adults](https://www.nhs.uk/health-assessment-tools/calculate-your-body-mass-index/calculate-bmi-for-adults)*\n",
    "\n",
    "\n",
    "\n",
    "#### NHS BMI Classifications:\n",
    "| BMI Range | Classification |\n",
    "|-----------|----------------|\n",
    "| Under 18.5 | Underweight |\n",
    "| 18.5-24.9 | Normal Weight |\n",
    "| 25-29.9 | Overweight |\n",
    "| 30-34.9 | Obese |\n",
    "| 35-39.9 | Severely Obese |\n",
    "| 40 and over | Morbidly Obese |\n",
    "\n",
    "- *Source: [https://www.nhs.uk/conditions/obesity/#:~:text=Body%20mass%20index%20(BMI),-BMI%20is%20a&text=below%2018.5%20%E2%80%93%20you're%20in,re%20in%20the%20obese%20range](https://www.nhs.uk/conditions/obesity/#:~:text=Body%20mass%20index%20(BMI),-BMI%20is%20a&text=below%2018.5%20%E2%80%93%20you're%20in,re%20in%20the%20obese%20range)*"
   ]
  },
  {
   "cell_type": "code",
   "execution_count": 4,
   "id": "264c526c-ff17-4599-bea8-98ea09d503df",
   "metadata": {},
   "outputs": [
    {
     "name": "stdin",
     "output_type": "stream",
     "text": [
      "Enter your name:  Charles\n",
      "Enter your weight in kilograms:  86\n",
      "Enter your height in metres:  1.88\n"
     ]
    },
    {
     "name": "stdout",
     "output_type": "stream",
     "text": [
      "Your name:  Charles\n",
      "Your weight:  86.0 kilograms\n",
      "Your height:  1.88 metres\n",
      "Your BMI:  24.332277048438208\n",
      "Classification: Normal Weight\n"
     ]
    }
   ],
   "source": [
    "name = input(\"Enter your name: \")\n",
    "\n",
    "weight = float(input(\"Enter your weight in kilograms: \"))\n",
    "\n",
    "height = float(input(\"Enter your height in metres: \"))\n",
    "\n",
    "print(\"Your name: \", name) \n",
    "\n",
    "print(\"Your weight: \", weight, \"kilograms\")\n",
    "\n",
    "print(\"Your height: \", height, \"metres\")\n",
    "\n",
    "BMI = (weight) / (height * height)\n",
    "\n",
    "print(\"Your BMI: \",BMI)\n",
    "\n",
    "if BMI > 0:\n",
    "    if(BMI < 18.5):\n",
    "        print(\"Classification: Underweight\")\n",
    "    elif(BMI < 25):\n",
    "        print(\"Classification: Normal Weight\")\n",
    "    elif(BMI < 30):\n",
    "        print(\"Classification: Overweight\")\n",
    "    elif(BMI < 35):\n",
    "        print(\"Classification: Obese\")\n",
    "    elif(BMI < 40):\n",
    "        print(\"Classification: Severely Obese\")\n",
    "    elif(BMI >= 40):\n",
    "        print(\"Classification: Morbidly Obese\")\n",
    "    else:\n",
    "        print(\"Please input numbers greater than zero.\")"
   ]
  }
 ],
 "metadata": {
  "kernelspec": {
   "display_name": "Python [conda env:base] *",
   "language": "python",
   "name": "conda-base-py"
  },
  "language_info": {
   "codemirror_mode": {
    "name": "ipython",
    "version": 3
   },
   "file_extension": ".py",
   "mimetype": "text/x-python",
   "name": "python",
   "nbconvert_exporter": "python",
   "pygments_lexer": "ipython3",
   "version": "3.12.7"
  },
  "panel-cell-order": [
   "0b5e2455-acdd-4653-aa37-4d442b53a96e"
  ]
 },
 "nbformat": 4,
 "nbformat_minor": 5
}
